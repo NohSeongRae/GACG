{
 "cells": [
  {
   "cell_type": "code",
   "execution_count": 4,
   "id": "e5e1933e",
   "metadata": {},
   "outputs": [
    {
     "name": "stdout",
     "output_type": "stream",
     "text": [
      "156816\n",
      "156816\n",
      "156816\n",
      "             0       1\n",
      "0       src_id  dst_id\n",
      "1            0       2\n",
      "2            0       3\n",
      "3            0       4\n",
      "4            0       5\n",
      "...        ...     ...\n",
      "156811     395     392\n",
      "156812     395     393\n",
      "156813     395     394\n",
      "156814     395     395\n",
      "156815     395     396\n",
      "\n",
      "[156816 rows x 2 columns]\n"
     ]
    }
   ],
   "source": [
    "import csv\n",
    "import pandas as pd\n",
    "import numpy as np\n",
    "import math\n",
    "\n",
    "xcoord = []\n",
    "ycoord = []\n",
    "src_id = []\n",
    "dst_id = []\n",
    "distance = []\n",
    "# point1 = []\n",
    "# point2 = []\n",
    "distance = []\n",
    "\n",
    "with open('Valencia_GN10.csv', 'r', encoding='utf-8') as f:\n",
    "    reader = csv.reader(f)\n",
    "    for line in reader:\n",
    "        if line[1] != 'lat':\n",
    "            xcoord.append(float(line[1]))\n",
    "        if line[2] != 'lon':\n",
    "            ycoord.append(float(line[2]))\n",
    "    for i in range(len(xcoord)-1):\n",
    "        for j in range(1, len(xcoord)):\n",
    "            src_id.append(i)\n",
    "            dst_id.append(j)\n",
    "            point1 = [xcoord[i], ycoord[i]]\n",
    "            point2 = [xcoord[j], ycoord[j]]\n",
    "            distance.append(math.dist(point1, point2))\n",
    "            \n",
    "src_id[0] = 'src_id'\n",
    "dst_id[0] = 'dst_id'\n",
    "distance[0] = 'distance'\n",
    "df = pd.DataFrame(src_id)\n",
    "print(len(src_id))\n",
    "print(len(dst_id))\n",
    "print(len(distance))\n",
    "df[1] = dst_id\n",
    "print(df)\n",
    "df['distance'] = distance\n",
    "df.to_csv('Valencia_GE10.csv', 'r', index=False, header=False, encoding='utf-8') "
   ]
  },
  {
   "cell_type": "code",
   "execution_count": 8,
   "id": "3e93fd4b",
   "metadata": {},
   "outputs": [
    {
     "name": "stdout",
     "output_type": "stream",
     "text": [
      "(61312, 1)\n"
     ]
    }
   ],
   "source": [
    "import csv \n",
    "import pandas as pd \n",
    "import numpy as np\n",
    "\n",
    "result = []\n",
    "arr1 = np.empty((0,2), float)\n",
    "arr2 = np.empty((0,2), float)\n",
    "src_id = []\n",
    "dst_id = []\n",
    "count = 0\n",
    "\n",
    "with open('Helsinki2.csv', 'r', encoding='utf-8') as f:\n",
    "    reader = csv.reader(f)\n",
    "    for line in reader:    \n",
    "        xcoord = line[1]\n",
    "        ycoord = line[2]\n",
    "        if (count > 0):\n",
    "            arr1 = np.append(arr1, np.array([xcoord]))\n",
    "            arr2 = np.append(arr2, np.array([ycoord]))\n",
    "            src_id.append(float(line[0]))\n",
    "        if (count > 1):\n",
    "            dst_id.append(float(line[0]))\n",
    "        count+=1\n",
    "    \n",
    "distance_arr = np.empty((0, len(arr1)), float)\n",
    "\n",
    "for i in range(len(arr1)-1):\n",
    "    distance1 = np.empty((0,2), float)\n",
    "    distance2 = np.empty((0,2), float)\n",
    "    distance1 = np.append(distance1, np.array([float(arr1[i]), float(arr2[i])]))\n",
    "    distance2 = np.append(distance2, np.array([float(arr1[i+1]), float(arr2[i+1])]))\n",
    "    distance_arr = np.append(distance_arr, np.array([np.linalg.norm(distance1-distance2)]))\n",
    "    \n",
    "src_id.pop()\n",
    "data = src_id\n",
    "\n",
    "df = pd.DataFrame(data, columns=['src_id'])\n",
    "print(df.shape)\n",
    "file_name = 'Edge_Helsinki' + '.csv'\n",
    "df['dst_id'] = dst_id\n",
    "df['distance'] = list(distance_arr)\n",
    "df.to_csv(file_name, index=False, encoding='utf-8')"
   ]
  }
 ],
 "metadata": {
  "kernelspec": {
   "display_name": "Python 3 (ipykernel)",
   "language": "python",
   "name": "python3"
  },
  "language_info": {
   "codemirror_mode": {
    "name": "ipython",
    "version": 3
   },
   "file_extension": ".py",
   "mimetype": "text/x-python",
   "name": "python",
   "nbconvert_exporter": "python",
   "pygments_lexer": "ipython3",
   "version": "3.9.12"
  }
 },
 "nbformat": 4,
 "nbformat_minor": 5
}
